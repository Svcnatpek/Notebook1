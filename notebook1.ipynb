{
 "cells": [
  {
   "cell_type": "code",
   "execution_count": 1,
   "metadata": {},
   "outputs": [],
   "source": [
    "import random as rnd"
   ]
  },
  {
   "cell_type": "code",
   "execution_count": 2,
   "metadata": {},
   "outputs": [
    {
     "name": "stdout",
     "output_type": "stream",
     "text": [
      "The number 50 is smaller\n",
      "The number 23 is smaller\n",
      "The number 33 is smaller\n",
      "The number 23 is smaller\n",
      "The number 10 is smaller\n",
      "The number 5 is smaller\n",
      "The number 5 is smaller\n",
      "The number 8 is smaller\n"
     ]
    },
    {
     "ename": "ValueError",
     "evalue": "invalid literal for int() with base 10: ''",
     "output_type": "error",
     "traceback": [
      "\u001b[0;31m---------------------------------------------------------------------------\u001b[0m",
      "\u001b[0;31mValueError\u001b[0m                                Traceback (most recent call last)",
      "Cell \u001b[0;32mIn[2], line 7\u001b[0m\n\u001b[1;32m      5\u001b[0m \u001b[39mfor\u001b[39;00m  num_guesses \u001b[39min\u001b[39;00m \u001b[39mrange\u001b[39m(\u001b[39m0\u001b[39m,\u001b[39m10\u001b[39m):\n\u001b[1;32m      6\u001b[0m     guess \u001b[39m=\u001b[39m \u001b[39minput\u001b[39m(\u001b[39mf\u001b[39m\u001b[39m\"\u001b[39m\u001b[39m (\u001b[39m\u001b[39m{\u001b[39;00mnum_guesses\u001b[39m+\u001b[39m\u001b[39m1\u001b[39m\u001b[39m}\u001b[39;00m\u001b[39m) Enter a number betwean 0 and 100: \u001b[39m\u001b[39m\"\u001b[39m)\n\u001b[0;32m----> 7\u001b[0m     guess \u001b[39m=\u001b[39m \u001b[39mint\u001b[39;49m(guess)\n\u001b[1;32m      8\u001b[0m     \u001b[39mif\u001b[39;00m guess \u001b[39m<\u001b[39m secret :\n\u001b[1;32m      9\u001b[0m         \u001b[39mprint\u001b[39m(\u001b[39mf\u001b[39m\u001b[39m\"\u001b[39m\u001b[39mThe number \u001b[39m\u001b[39m{\u001b[39;00mguess\u001b[39m}\u001b[39;00m\u001b[39m is smaller\u001b[39m\u001b[39m\"\u001b[39m)\n",
      "\u001b[0;31mValueError\u001b[0m: invalid literal for int() with base 10: ''"
     ]
    }
   ],
   "source": [
    "PLAY_AGAIN = True\n",
    "while PLAY_AGAIN:\n",
    "    secret = rnd.randrange(0,100)\n",
    "    DID_GUESS = False\n",
    "    for  num_guesses in range(0,10):\n",
    "        guess = input(f\" ({num_guesses+1}) Enter a number betwean 0 and 100: \")\n",
    "        guess = int(guess)\n",
    "        if guess < secret :\n",
    "            print(f\"The number {guess} is smaller\")\n",
    "        elif guess > secret :\n",
    "            print(f\"The number {guess} is bigger\" )\n",
    "        else:\n",
    "            print(f\"You have guessed the number {secret} after {num_guesses + 1}\")\n",
    "            DID_GUESS = True\n",
    "            break\n",
    "    if DID_GUESS is False:\n",
    "        print(f\"You loose the number is {secret}\")\n",
    "    play = input(\"Play again (Y/N)\")\n",
    "    if play == 'N':\n",
    "        PLAY_AGAIN = False\n",
    "        print(\"Good Bye\")        \n"
   ]
  }
 ],
 "metadata": {
  "kernelspec": {
   "display_name": "Python 3",
   "language": "python",
   "name": "python3"
  },
  "language_info": {
   "codemirror_mode": {
    "name": "ipython",
    "version": 3
   },
   "file_extension": ".py",
   "mimetype": "text/x-python",
   "name": "python",
   "nbconvert_exporter": "python",
   "pygments_lexer": "ipython3",
   "version": "3.10.4"
  },
  "orig_nbformat": 4
 },
 "nbformat": 4,
 "nbformat_minor": 2
}
