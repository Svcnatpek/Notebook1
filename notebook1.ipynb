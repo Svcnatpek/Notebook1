{
 "cells": [
  {
   "cell_type": "code",
   "execution_count": null,
   "metadata": {},
   "outputs": [],
   "source": [
    "import random\n",
    "\n",
    "secret = random.randrange(1,100)\n",
    "numguesses = 10\n",
    "\n",
    "\n",
    "def compare(x,y):\n",
    "    if x == y :\n",
    "        return \"ok\"\n",
    "    elif x > y :\n",
    "        return \"bigger\"\n",
    "    else:\n",
    "        return \"smaller\"\n",
    "\n",
    "while numguesses > 0:\n",
    "    message = \"you have {} guesses\".format(numguesses)\n",
    "    print(message)\n",
    "    guess = input(\"Input a number [1 to 100]\")\n",
    "    numguesses = numguesses - 1\n",
    "    result = compare(int(guess),secret)\n",
    "    if result == \"ok\":\n",
    "        print(\"You have guesed the number {} after {} guesses\".format(secret,numguesses))\n",
    "        break\n",
    "    else:\n",
    "        print(\"The number you have entered is {}\".format(result))\n"
   ]
  }
 ],
 "metadata": {
  "kernelspec": {
   "display_name": "Python 3",
   "language": "python",
   "name": "python3"
  },
  "language_info": {
   "codemirror_mode": {
    "name": "ipython",
    "version": 3
   },
   "file_extension": ".py",
   "mimetype": "text/x-python",
   "name": "python",
   "nbconvert_exporter": "python",
   "pygments_lexer": "ipython3",
   "version": "3.10.4"
  },
  "orig_nbformat": 4
 },
 "nbformat": 4,
 "nbformat_minor": 2
}
