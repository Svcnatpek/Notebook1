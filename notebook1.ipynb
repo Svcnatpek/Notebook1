{
 "cells": [
  {
   "attachments": {},
   "cell_type": "markdown",
   "metadata": {},
   "source": [
    "# The Gussing Game\n",
    "You have 10 Guesses to guess a number"
   ]
  },
  {
   "cell_type": "code",
   "execution_count": null,
   "metadata": {},
   "outputs": [],
   "source": [
    "import random as rnd\n",
    "PLAY_AGAIN = True\n",
    "while PLAY_AGAIN:\n",
    "    secret = rnd.randrange(0,100)\n",
    "    DID_GUESS = False\n",
    "    for  num_guesses in range(0,10):\n",
    "        guess = input(f\" ({num_guesses+1}) Enter a number betwean 0 and 100: \")\n",
    "        guess = int(guess)\n",
    "        if guess < secret :\n",
    "            print(f\"The number {guess} is smaller\")\n",
    "        elif guess > secret :\n",
    "            print(f\"The number {guess} is bigger\" )\n",
    "        else:\n",
    "            print(f\"You have guessed the number {secret} after {num_guesses + 1}\")\n",
    "            DID_GUESS = True\n",
    "            break\n",
    "    if DID_GUESS is False:\n",
    "        print(f\"You loose the number is {secret}\")\n",
    "    play = input(\"Play again (Y/N)\")\n",
    "    if play == 'N':\n",
    "        PLAY_AGAIN = False\n",
    "        print(\"Good Bye\")        \n"
   ]
  }
 ],
 "metadata": {
  "kernelspec": {
   "display_name": "Python 3",
   "language": "python",
   "name": "python3"
  },
  "language_info": {
   "codemirror_mode": {
    "name": "ipython",
    "version": 3
   },
   "file_extension": ".py",
   "mimetype": "text/x-python",
   "name": "python",
   "nbconvert_exporter": "python",
   "pygments_lexer": "ipython3",
   "version": "3.10.4"
  },
  "orig_nbformat": 4
 },
 "nbformat": 4,
 "nbformat_minor": 2
}
